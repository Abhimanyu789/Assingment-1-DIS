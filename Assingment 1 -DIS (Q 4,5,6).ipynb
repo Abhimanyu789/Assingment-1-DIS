{
 "cells": [
  {
   "cell_type": "code",
   "execution_count": 6,
   "metadata": {},
   "outputs": [
    {
     "name": "stdout",
     "output_type": "stream",
     "text": [
      "4\n"
     ]
    }
   ],
   "source": [
    "#Question 4\n",
    "def diffPairs(nums,k):\n",
    "    \n",
    "# Different cases for k\n",
    "   \n",
    "    if k==0:\n",
    "        pairs=len(nums)-len(list(set(nums)))\n",
    "        return pairs\n",
    "    nums=list(set(nums))\n",
    "    if k>0:\n",
    "        nums.sort(reverse=True)\n",
    "    else :\n",
    "        nums.sort()\n",
    "    pairs=0\n",
    "    for i in range(len(nums)):\n",
    "        for j in range(i+1,len(nums)):\n",
    "            if nums[i]-nums[j]==k:\n",
    "                pairs=pairs+1\n",
    "    return pairs\n",
    "print(diffPairs([1, 2, 3, 4, 5],1))"
   ]
  },
  {
   "cell_type": "code",
   "execution_count": 3,
   "metadata": {},
   "outputs": [
    {
     "name": "stdout",
     "output_type": "stream",
     "text": [
      "['disemail@usf.com', 'disemail@usf.com', 'disemail@us.f.com']\n",
      "2\n"
     ]
    }
   ],
   "source": [
    "# Question 5\n",
    "\n",
    "def diffpairs(l):\n",
    "    finallist=[]\n",
    "    for i in l:\n",
    "        localname,domain=i.split(\"@\")\n",
    "        if \".\" in localname:\n",
    "            localname=localname.replace(\".\",\"\")\n",
    "        if \"+\" in localname:\n",
    "            plusindex=localname.find(\"+\")\n",
    "            localname=localname[:plusindex]\n",
    "        finallist.append(localname+\"@\"+domain)\n",
    "    print(finallist)\n",
    "    finallist=list(set(finallist))\n",
    "    return len(finallist)\n",
    "\n",
    "print(diffpairs([\"dis.email+bull@usf.com\",\"dis.e.mail+bob.cathy@usf.com\",\"disemail+david@us.f.com\"]))"
   ]
  },
  {
   "cell_type": "code",
   "execution_count": 5,
   "metadata": {},
   "outputs": [
    {
     "name": "stdout",
     "output_type": "stream",
     "text": [
      "A\n"
     ]
    }
   ],
   "source": [
    "#Question 6 \n",
    "\n",
    "def destpaths(paths):\n",
    "    start_points=set()\n",
    "    end_points=set()\n",
    "    for i in paths:\n",
    "        start_points.add(i[0])\n",
    "        end_points.add(i[1])\n",
    "    destination=end_points-start_points\n",
    "    destination=list(destination)[0]\n",
    "    return destination\n",
    "\n",
    "print(destpaths([[\"B\",\"C\"],[\"D\",\"B\"],[\"C\",\"A\"]]))"
   ]
  }
 ],
 "metadata": {
  "kernelspec": {
   "display_name": "Python 3",
   "language": "python",
   "name": "python3"
  },
  "language_info": {
   "codemirror_mode": {
    "name": "ipython",
    "version": 3
   },
   "file_extension": ".py",
   "mimetype": "text/x-python",
   "name": "python",
   "nbconvert_exporter": "python",
   "pygments_lexer": "ipython3",
   "version": "3.8.5"
  }
 },
 "nbformat": 4,
 "nbformat_minor": 4
}
